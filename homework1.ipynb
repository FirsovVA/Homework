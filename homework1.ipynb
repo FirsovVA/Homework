{
 "cells": [
  {
   "cell_type": "code",
   "execution_count": 39,
   "metadata": {},
   "outputs": [],
   "source": [
    "#Return the Sum of Two Numbers (очень легко)\n",
    "\n",
    "def addition(x,y):\n",
    "    return x+y"
   ]
  },
  {
   "cell_type": "code",
   "execution_count": 38,
   "metadata": {},
   "outputs": [],
   "source": [
    "#Stuttering Function (легко)\n",
    "\n",
    "def stutter(word):\n",
    "    s=word[:2]+\"... \"+word[:2]+\"... \"+word+\"?\"\n",
    "    return s"
   ]
  },
  {
   "cell_type": "code",
   "execution_count": 46,
   "metadata": {},
   "outputs": [],
   "source": [
    "#Factorial of a Number (средне)\n",
    "\n",
    "def fact(x):\n",
    "    s=1;\n",
    "    for i in range(1,x+1):\n",
    "        s=s*i\n",
    "    return s\n",
    "      "
   ]
  },
  {
   "cell_type": "code",
   "execution_count": 58,
   "metadata": {},
   "outputs": [
    {
     "data": {
      "text/plain": [
       "'7'"
      ]
     },
     "execution_count": 58,
     "metadata": {},
     "output_type": "execute_result"
    }
   ],
   "source": [
    "#FizzBuzz Interview Question (средне)\n",
    "\n",
    "def fizz_buzz(x):\n",
    "    if (x % 3)== 0 :\n",
    "        if (x % 5)== 0 :\n",
    "            return 'FizzBuzz'\n",
    "        else:\n",
    "            return 'Fizz'\n",
    "    elif (x % 5)== 0:\n",
    "        return 'Buzz'\n",
    "    else:\n",
    "        return format(x)\n",
    "\n",
    "fizz_buzz(7)    "
   ]
  },
  {
   "cell_type": "code",
   "execution_count": 73,
   "metadata": {},
   "outputs": [
    {
     "data": {
      "text/plain": [
       "14796"
      ]
     },
     "execution_count": 73,
     "metadata": {},
     "output_type": "execute_result"
    }
   ],
   "source": [
    "#Calculate the Profit (средне)\n",
    "\n",
    "def profit(info):\n",
    "    res = (info[\"sell_price\"]-info[\"cost_price\"])*info[\"inventory\"]\n",
    "    return round(res)\n",
    "\n",
    "\n",
    "\n",
    "profit(info={\n",
    "  \"cost_price\": 32.67,\n",
    "  \"sell_price\": 45.00,\n",
    "  \"inventory\": 1200\n",
    "})"
   ]
  },
  {
   "cell_type": "code",
   "execution_count": 80,
   "metadata": {},
   "outputs": [
    {
     "data": {
      "text/plain": [
       "'20010222'"
      ]
     },
     "execution_count": 80,
     "metadata": {},
     "output_type": "execute_result"
    }
   ],
   "source": [
    "#Date Format (средне)\n",
    "\n",
    "def format_date(date):\n",
    "    format2 = date.split(\"/\")\n",
    "    new_date = str(format2[2])+str(format2[1])+str(format2[0])\n",
    "    return new_date\n",
    "\n",
    "format_date(\"22/02/2001\")"
   ]
  }
 ],
 "metadata": {
  "kernelspec": {
   "display_name": "Python 3",
   "language": "python",
   "name": "python3"
  },
  "language_info": {
   "codemirror_mode": {
    "name": "ipython",
    "version": 3
   },
   "file_extension": ".py",
   "mimetype": "text/x-python",
   "name": "python",
   "nbconvert_exporter": "python",
   "pygments_lexer": "ipython3",
   "version": "3.8.3"
  }
 },
 "nbformat": 4,
 "nbformat_minor": 4
}
