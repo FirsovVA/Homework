{
 "cells": [
  {
   "cell_type": "code",
   "execution_count": 3,
   "metadata": {},
   "outputs": [
    {
     "name": "stdout",
     "output_type": "stream",
     "text": [
      "[[0 1 2 3 4]\n",
      " [5 6 7 8 9]]\n",
      "4.5 [2.5 3.5 4.5 5.5 6.5]\n"
     ]
    }
   ],
   "source": [
    "import numpy as np\n",
    "np.full((3, 2), 7)\n",
    "\n",
    "a=np.arange(10).reshape((2, 5))\n",
    "print(a)\n",
    "print(np.mean(a), np.mean(a, axis=0))"
   ]
  },
  {
   "cell_type": "code",
   "execution_count": 2,
   "metadata": {},
   "outputs": [
    {
     "name": "stdout",
     "output_type": "stream",
     "text": [
      "[[0.91013896 0.53822226 0.97901739]\n",
      " [0.63971326 0.72611906 0.79366821]\n",
      " [0.53481719 0.96827172 0.17946075]\n",
      " [0.7834535  0.12050042 0.19455183]\n",
      " [0.222857   0.66138227 0.84226076]\n",
      " [0.30344483 0.57107134 0.10327736]\n",
      " [0.62963736 0.28826881 0.51300369]\n",
      " [0.5838966  0.62549451 0.97929632]\n",
      " [0.92470214 0.84116911 0.27653811]\n",
      " [0.01924503 0.40034652 0.86503827]]\n",
      "[1 0 0 0 1 1 2 0 2 1]\n",
      "0.5382222598074368\n",
      "0.6397132619200252\n",
      "0.5348171931085393\n",
      "0.7834535009630603\n",
      "0.6613822737013262\n",
      "0.571071337037924\n",
      "0.513003687803507\n",
      "0.5838966000770126\n",
      "0.27653811412337914\n",
      "0.4003465178941311\n"
     ]
    }
   ],
   "source": [
    "a = np.random.random((10, 3))\n",
    "print(a)\n",
    "b = np.argmin(abs(a-0.5), axis=1)\n",
    "print(b)\n",
    "\n",
    "for i in range(10):\n",
    "    print(a[i,b[i]])"
   ]
  },
  {
   "cell_type": "code",
   "execution_count": 3,
   "metadata": {},
   "outputs": [
    {
     "name": "stdout",
     "output_type": "stream",
     "text": [
      "[[0.26167277 0.58566677 0.27873082 0.48441157 0.18055855 0.91500029]\n",
      " [0.79561537 0.69654684 0.35353998 0.64798684 0.0510293  0.43063801]\n",
      " [0.05819202 0.97838939 0.85342688 0.65878835 0.48246877 0.36526506]\n",
      " [0.0783277  0.41301205 0.70408913 0.36004483 0.57498954 0.79692384]\n",
      " [0.45480578 0.1111994  0.79657727 0.25896266 0.52548352 0.31064219]\n",
      " [0.0484185  0.30488333 0.09194153 0.05753562 0.25536386 0.14481476]]\n",
      "[5 4 5 5 1 5]\n",
      "55.8885656455926\n",
      "26.75694506885185\n",
      "36.942289510893055\n",
      "50.87956284115541\n",
      "48.16195232155154\n",
      "6.235259404507703\n"
     ]
    }
   ],
   "source": [
    "a = np.random.random((6,6))\n",
    "print(a)\n",
    "b = np.argmin(a, axis = 0)\n",
    "print(b)\n",
    "for i in range(6) :\n",
    "    print(sum(a[i])/a[b[i],i])"
   ]
  },
  {
   "cell_type": "code",
   "execution_count": 4,
   "metadata": {},
   "outputs": [
    {
     "name": "stdout",
     "output_type": "stream",
     "text": [
      "[2, 3, 0, 7]\n",
      "7\n"
     ]
    }
   ],
   "source": [
    "x = np.array([6, 2, 0, 3, 0, 0, 5, 7, 0])\n",
    "i=0\n",
    "b = []\n",
    "while i<len(x)-1:\n",
    "    if x[i+1]==0 :\n",
    "        b.append(x[i])\n",
    "    i+=1\n",
    "      \n",
    "print(b)      \n",
    "print(np.max(b))        "
   ]
  },
  {
   "cell_type": "code",
   "execution_count": 5,
   "metadata": {},
   "outputs": [
    {
     "name": "stdout",
     "output_type": "stream",
     "text": [
      "[2. 2. 2. 2. 1. 4. 1. 1. 2. 1.]\n"
     ]
    }
   ],
   "source": [
    "x = np.ones(10)\n",
    "i = np.array([0, 1, 2, 3, 5, 5, 5, 8])\n",
    "for k in range(len(i)):\n",
    "    x[i[k]]+=1\n",
    "    \n",
    "print(x)"
   ]
  }
 ],
 "metadata": {
  "kernelspec": {
   "display_name": "Python 3",
   "language": "python",
   "name": "python3"
  },
  "language_info": {
   "codemirror_mode": {
    "name": "ipython",
    "version": 3
   },
   "file_extension": ".py",
   "mimetype": "text/x-python",
   "name": "python",
   "nbconvert_exporter": "python",
   "pygments_lexer": "ipython3",
   "version": "3.8.3"
  }
 },
 "nbformat": 4,
 "nbformat_minor": 4
}
