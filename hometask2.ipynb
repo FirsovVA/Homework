{
 "cells": [
  {
   "cell_type": "markdown",
   "metadata": {},
   "source": [
    "1 задача"
   ]
  },
  {
   "cell_type": "code",
   "execution_count": 3,
   "metadata": {},
   "outputs": [
    {
     "name": "stdout",
     "output_type": "stream",
     "text": [
      "[[0.17965278 0.8860593  0.42526642]\n",
      " [0.41003377 0.16728604 0.15616582]\n",
      " [0.37554019 0.32321596 0.51445698]\n",
      " [0.09508757 0.33825194 0.06735058]\n",
      " [0.86153642 0.64410541 0.7767233 ]\n",
      " [0.43785114 0.25359454 0.62193827]\n",
      " [0.11703587 0.05600964 0.23601033]\n",
      " [0.6670091  0.45914016 0.25673582]\n",
      " [0.86279619 0.40013967 0.15073581]\n",
      " [0.64231419 0.53341244 0.09290883]]\n",
      "[0.42526642 0.41003377 0.51445698 0.33825194 0.64410541 0.43785114\n",
      " 0.23601033 0.45914016 0.40013967 0.53341244]\n"
     ]
    }
   ],
   "source": [
    "import numpy as np\n",
    "\n",
    "a = np.random.random((10, 3))\n",
    "print(a)\n",
    "b = np.argmin(abs(a-0.5), axis=1)\n",
    "\n",
    "c = np.arange(10)\n",
    "\n",
    "print(a[c,b])"
   ]
  },
  {
   "cell_type": "markdown",
   "metadata": {},
   "source": [
    "2 задача"
   ]
  },
  {
   "cell_type": "code",
   "execution_count": 12,
   "metadata": {},
   "outputs": [
    {
     "name": "stdout",
     "output_type": "stream",
     "text": [
      "[[0.35111962 0.26815581 0.81660443 0.78614447 0.708533   0.03913765]\n",
      " [0.6114329  0.79379034 0.66311475 0.59649881 0.32719407 0.9783646 ]\n",
      " [0.84508023 0.74468894 0.95722959 0.63724244 0.85189521 0.63799118]\n",
      " [0.26540522 0.71916693 0.18218282 0.87049611 0.08201882 0.23830731]\n",
      " [0.29935702 0.54323561 0.83794351 0.47768765 0.13404608 0.83402799]\n",
      " [0.84037845 0.48857528 0.98609424 0.27468948 0.91466068 0.6429922 ]]\n",
      "[3 0 3 5 3 0]\n",
      "[12.10516288 13.26696181 24.38852028 13.26137043 36.80067217 86.12731662]\n"
     ]
    }
   ],
   "source": [
    "a = np.random.random((6,6))\n",
    "print(a)\n",
    "b = np.argmin(a, axis = 0)\n",
    "c = np.arange(6)\n",
    "\n",
    "print(sum(a[c])/a[b[c],c])"
   ]
  },
  {
   "cell_type": "markdown",
   "metadata": {},
   "source": [
    "3 задача"
   ]
  },
  {
   "cell_type": "code",
   "execution_count": 44,
   "metadata": {},
   "outputs": [
    {
     "name": "stdout",
     "output_type": "stream",
     "text": [
      "7\n"
     ]
    }
   ],
   "source": [
    "x = np.array([6, 2, 0, 3, 0, 0, 5, 7, 0])\n",
    "\n",
    "c = np.arange(len (x))\n",
    "mask = x == 0\n",
    "\n",
    "print(np.max( x[ mask[(c+1) % len(x)] ] ) )\n"
   ]
  },
  {
   "cell_type": "markdown",
   "metadata": {},
   "source": [
    "4 задача"
   ]
  },
  {
   "cell_type": "code",
   "execution_count": 65,
   "metadata": {},
   "outputs": [
    {
     "name": "stdout",
     "output_type": "stream",
     "text": [
      "[2. 2. 2. 2. 1. 4. 1. 1. 2. 1.]\n"
     ]
    }
   ],
   "source": [
    "x = np.ones(10)\n",
    "i = np.array([0, 1, 2, 3, 5, 5, 5, 8])\n",
    "x += np.bincount(i, minlength=len(x))\n",
    "print(x)"
   ]
  },
  {
   "cell_type": "markdown",
   "metadata": {},
   "source": [
    "5 задача"
   ]
  },
  {
   "cell_type": "code",
   "execution_count": 405,
   "metadata": {},
   "outputs": [],
   "source": [
    "def get_labels(pts, centroids):\n",
    "\n",
    "    dist = np.hstack([np.linalg.norm(pts - centroid, axis=1).reshape(-1, 1) for centroid in centroids])\n",
    "    return np.argmin(dist, axis=1)\n",
    "\n",
    "def my_kmeans(obs, k, iter=20, thresh=1e-05):\n",
    "    centroids = np.random.random((k, obs.shape[1]))\n",
    "    labels = get_labels(obs, centroids)\n",
    "    norm = norma(obs, centroids, labels)\n",
    "    minnm = norm\n",
    "    newcen = centroids\n",
    "        \n",
    "        \n",
    "    for i in range(iter):\n",
    "        prevnm = norm\n",
    "        centroids = np.array([obs[labels == i].mean(axis=0) for i in range(k)])\n",
    "        labels = get_labels(obs, centroids)\n",
    "        norm = norma(obs, centroids, labels)       \n",
    "        if norm < minnm:\n",
    "            newcen = centroids\n",
    "            minnm = norm\n",
    "   \n",
    "        if abs(norm - prevnm) < thresh:\n",
    "            break\n",
    "            \n",
    "    return newcen\n",
    "\n",
    "def norma(obs, centroids, labels):\n",
    "    ans = 0\n",
    "    for i in range(centroids.shape[0]):\n",
    "        ans+= abs(np.linalg.norm(obs[i==labels] - centroids[i], axis=1).sum())\n",
    "    return ans\n"
   ]
  },
  {
   "cell_type": "markdown",
   "metadata": {},
   "source": [
    "Задача 6\n",
    "\n",
    "(Метод локтя реализовать не получилось, количество кластеров определял в ручную, методом подбора)"
   ]
  },
  {
   "cell_type": "code",
   "execution_count": 409,
   "metadata": {},
   "outputs": [
    {
     "name": "stderr",
     "output_type": "stream",
     "text": [
      "<ipython-input-405-e0557b4b01b4>:16: RuntimeWarning: Mean of empty slice.\n",
      "  centroids = np.array([obs[labels == i].mean(axis=0) for i in range(k)])\n"
     ]
    },
    {
     "name": "stdout",
     "output_type": "stream",
     "text": [
      "[[27.32608696 49.36956522]\n",
      " [43.29166667 15.02083333]\n",
      " [30.1754386  82.35087719]\n",
      " [55.40816327 48.04081633]]\n"
     ]
    },
    {
     "data": {
      "image/png": "[encoded data removed]",
      "text/plain": [
       "<Figure size 432x288 with 1 Axes>"
      ]
     },
     "metadata": {
      "needs_background": "light"
     },
     "output_type": "display_data"
    }
   ],
   "source": [
    "url = 'https://raw.githubusercontent.com/sharmaroshan/Clustering-of-Mall-Customers/master/Mall_Customers.csv'\n",
    "data = np.loadtxt(url, delimiter=',', dtype=object, skiprows=1)\n",
    "\n",
    "\n",
    "b = np.empty((data.shape[0],2))\n",
    "\n",
    "\n",
    "\n",
    "for i in range(data.shape[0]):\n",
    "    b[i, 0] = float(data[i, 2])\n",
    "    b[i, 1] = float(data[i, 4])\n",
    "\n",
    "    \n",
    "#print((np.take(b, (0, 1), axis = 1)))\n",
    "\n",
    "centroids = my_kmeans(b, 4)\n",
    "\n",
    "while (np.sum(centroids) < 3 * centroids.shape[0]):\n",
    "    centroids = my_kmeans(b, 4)\n",
    "    \n",
    "\n",
    "print(centroids)\n",
    "\n",
    "labels = get_labels(b, centroids)\n",
    "\n",
    "#print (labels)\n",
    "\n",
    "plt.scatter(*(b[labels == 0]).T, c = 'g', label = 'First group')\n",
    "plt.scatter(*(b[labels == 1]).T, c = 'r', label = 'Second group')\n",
    "plt.scatter(*(b[labels == 2]).T, c = 'b', label = 'Third group')\n",
    "plt.scatter(*(b[labels == 3]).T, c = 'y', label = 'Fourth group')\n",
    "plt.scatter(*centroids.T, c=['black'], marker='*')\n",
    "plt.title('Predicted Classes')\n",
    "plt.axis('equal')\n",
    "plt.legend()\n",
    "plt.show()"
   ]
  }
 ],
 "metadata": {
  "kernelspec": {
   "display_name": "Python 3",
   "language": "python",
   "name": "python3"
  },
  "language_info": {
   "codemirror_mode": {
    "name": "ipython",
    "version": 3
   },
   "file_extension": ".py",
   "mimetype": "text/x-python",
   "name": "python",
   "nbconvert_exporter": "python",
   "pygments_lexer": "ipython3",
   "version": "3.8.3"
  }
 },
 "nbformat": 4,
 "nbformat_minor": 4
}
