{
 "cells": [
  {
   "cell_type": "code",
   "execution_count": 1,
   "metadata": {},
   "outputs": [],
   "source": [
    "import numpy as np"
   ]
  },
  {
   "cell_type": "code",
   "execution_count": 14,
   "metadata": {},
   "outputs": [],
   "source": [
    "P =  np.array([[0.6, 0.4],\n",
    "               [0.5, 0.5]])\n",
    "B =  np.array([[0.2, 0.4, 0.4], \n",
    "               [0.5, 0.4, 0.1]])\n",
    "pi =  np.array([0.8, 0.2])\n",
    "\n",
    "line =  np.array([1,3,3,2,3,3,3,2,1,2,1,1,3,2,3,2,2,1,3,3,1,1,1,2,1])\n",
    "T = 2 #кол-во скрытых состояний\n",
    "N = len(line)"
   ]
  },
  {
   "cell_type": "code",
   "execution_count": 84,
   "metadata": {},
   "outputs": [],
   "source": [
    "alpha = np.zeros((N, T))\n",
    "alpha[0] = pi * B[:, line[0] - 1]\n",
    "\n",
    "for t in range(1, N):\n",
    "    alpha[t] = (alpha[t - 1].dot(P)) * B[:, line[t] - 1]\n",
    "\n",
    "result_prob = alpha[-1].sum()"
   ]
  },
  {
   "cell_type": "code",
   "execution_count": 88,
   "metadata": {},
   "outputs": [],
   "source": [
    "delta = np.zeros((N, T))\n",
    "args = np.zeros((N, T))\n",
    "\n",
    "delta[0] = pi * B[:, line[0] - 1]\n",
    "\n",
    "for n in range(1, N):\n",
    "    for i in range(T):\n",
    "        delta[n, i] = np.max(delta[n - 1] * P[:, i]) * B[i, line[n] - 1]\n",
    "        args[n, i] = np.argmax(delta[n - 1] * P[:, i])\n",
    "        "
   ]
  },
  {
   "cell_type": "code",
   "execution_count": 89,
   "metadata": {},
   "outputs": [],
   "source": [
    "states = np.zeros(N, dtype = np.int32)\n",
    "states[N - 1] = np.argmax(delta[N - 1])\n",
    "for i in range(N - 2, -1, -1):\n",
    "    states[i] = args[i + 1, states[i + 1]]\n",
    "    "
   ]
  },
  {
   "cell_type": "code",
   "execution_count": 90,
   "metadata": {},
   "outputs": [
    {
     "name": "stdout",
     "output_type": "stream",
     "text": [
      "Вероятность реализации подобного исхода: 4.978300204739012e-13\n",
      "Наиболее вероятная последовательность скрытых состояний : \n",
      "[1 1 1 1 1 1 1 1 2 2 2 2 1 1 1 1 1 2 1 1 2 2 2 2 2]\n"
     ]
    }
   ],
   "source": [
    "print('Вероятность реализации подобного исхода: {}'.format(result_prob))\n",
    "print('Наиболее вероятная последовательность скрытых состояний : \\n{}'.format(states + 1))"
   ]
  }
 ],
 "metadata": {
  "kernelspec": {
   "display_name": "Python 3",
   "language": "python",
   "name": "python3"
  },
  "language_info": {
   "codemirror_mode": {
    "name": "ipython",
    "version": 3
   },
   "file_extension": ".py",
   "mimetype": "text/x-python",
   "name": "python",
   "nbconvert_exporter": "python",
   "pygments_lexer": "ipython3",
   "version": "3.8.3"
  }
 },
 "nbformat": 4,
 "nbformat_minor": 4
}
